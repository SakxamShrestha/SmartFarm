{
 "cells": [
  {
   "cell_type": "code",
   "execution_count": 1,
   "metadata": {},
   "outputs": [
    {
     "ename": "ModuleNotFoundError",
     "evalue": "No module named 'mkl'",
     "output_type": "error",
     "traceback": [
      "\u001b[1;31m---------------------------------------------------------------------------\u001b[0m",
      "\u001b[1;31mModuleNotFoundError\u001b[0m                       Traceback (most recent call last)",
      "Cell \u001b[1;32mIn[1], line 7\u001b[0m\n\u001b[0;32m      5\u001b[0m \u001b[38;5;28;01mimport\u001b[39;00m \u001b[38;5;21;01mtorch\u001b[39;00m\u001b[38;5;21;01m.\u001b[39;00m\u001b[38;5;21;01mnn\u001b[39;00m \u001b[38;5;28;01mas\u001b[39;00m \u001b[38;5;21;01mnn\u001b[39;00m\n\u001b[0;32m      6\u001b[0m \u001b[38;5;28;01mimport\u001b[39;00m \u001b[38;5;21;01mtorch\u001b[39;00m\u001b[38;5;21;01m.\u001b[39;00m\u001b[38;5;21;01moptim\u001b[39;00m \u001b[38;5;28;01mas\u001b[39;00m \u001b[38;5;21;01moptim\u001b[39;00m\n\u001b[1;32m----> 7\u001b[0m \u001b[38;5;28;01mimport\u001b[39;00m \u001b[38;5;21;01mmkl\u001b[39;00m\n\u001b[0;32m      8\u001b[0m \u001b[38;5;66;03m# Load the dataset\u001b[39;00m\n\u001b[0;32m      9\u001b[0m data \u001b[38;5;241m=\u001b[39m pd\u001b[38;5;241m.\u001b[39mDataFrame({\n\u001b[0;32m     10\u001b[0m     \u001b[38;5;124m'\u001b[39m\u001b[38;5;124mSoil_Moisture\u001b[39m\u001b[38;5;124m'\u001b[39m: [\u001b[38;5;241m42\u001b[39m, \u001b[38;5;241m21\u001b[39m, \u001b[38;5;241m31\u001b[39m, \u001b[38;5;241m53\u001b[39m, \u001b[38;5;241m38\u001b[39m, \u001b[38;5;241m49\u001b[39m, \u001b[38;5;241m29\u001b[39m, \u001b[38;5;241m43\u001b[39m, \u001b[38;5;241m34\u001b[39m, \u001b[38;5;241m51\u001b[39m, \u001b[38;5;241m30\u001b[39m],\n\u001b[0;32m     11\u001b[0m     \u001b[38;5;124m'\u001b[39m\u001b[38;5;124mTemperature\u001b[39m\u001b[38;5;124m'\u001b[39m: [\u001b[38;5;241m26\u001b[39m, \u001b[38;5;241m36\u001b[39m, \u001b[38;5;241m31\u001b[39m, \u001b[38;5;241m27\u001b[39m, \u001b[38;5;241m23\u001b[39m, \u001b[38;5;241m29\u001b[39m, \u001b[38;5;241m24\u001b[39m, \u001b[38;5;241m38\u001b[39m, \u001b[38;5;241m33\u001b[39m, \u001b[38;5;241m37\u001b[39m, \u001b[38;5;241m25\u001b[39m],\n\u001b[1;32m   (...)\u001b[0m\n\u001b[0;32m     18\u001b[0m     \u001b[38;5;124m'\u001b[39m\u001b[38;5;124mPlant_Health\u001b[39m\u001b[38;5;124m'\u001b[39m: [\u001b[38;5;241m1\u001b[39m, \u001b[38;5;241m0\u001b[39m, \u001b[38;5;241m1\u001b[39m, \u001b[38;5;241m1\u001b[39m, \u001b[38;5;241m0\u001b[39m, \u001b[38;5;241m1\u001b[39m, \u001b[38;5;241m0\u001b[39m, \u001b[38;5;241m1\u001b[39m, \u001b[38;5;241m0\u001b[39m, \u001b[38;5;241m1\u001b[39m, \u001b[38;5;241m0\u001b[39m]\n\u001b[0;32m     19\u001b[0m })\n",
      "\u001b[1;31mModuleNotFoundError\u001b[0m: No module named 'mkl'"
     ]
    }
   ],
   "source": [
    "import numpy as np\n",
    "import pandas as pd\n",
    "import torch\n",
    "from sklearn.model_selection import train_test_split\n",
    "import torch.nn as nn\n",
    "import torch.optim as optim\n",
    "import mkl\n",
    "# Load the dataset\n",
    "data = pd.DataFrame({\n",
    "    'Soil_Moisture': [42, 21, 31, 53, 38, 49, 29, 43, 34, 51, 30],\n",
    "    'Temperature': [26, 36, 31, 27, 23, 29, 24, 38, 33, 37, 25],\n",
    "    'Nutrient_Levels': [5, 4, 7, 8, 6, 3, 5, 2, 9, 4, 8],\n",
    "    'Acidity': [6.8, 6.6, 6.3, 6.7, 6.1, 6.5, 6.9, 7.2, 7.0, 7.1, 6.4],\n",
    "    'Pest_Activity': [1, 0, 1, 1, 0, 0, 1, 0, 1, 1, 0],\n",
    "    'Oxygen_Levels': [24, 21, 19, 22, 26, 18, 23, 20, 25, 17, 24],\n",
    "    'Manure_Requirements': [4, 3, 5, 6, 4, 5, 4, 6, 3, 5, 4],\n",
    "    'Weed_Presence': [0, 1, 0, 1, 0, 1, 1, 0, 1, 0, 1],\n",
    "    'Plant_Health': [1, 0, 1, 1, 0, 1, 0, 1, 0, 1, 0]\n",
    "})\n",
    "\n",
    "# Split data into features (X) and target variable (y)\n",
    "X = data.drop('Plant_Health', axis=1).values\n",
    "y = data['Plant_Health'].values\n",
    "\n",
    "# Convert data to PyTorch tensors\n",
    "X_tensor = torch.tensor(X, dtype=torch.float32)\n",
    "y_tensor = torch.tensor(y, dtype=torch.long)\n",
    "\n",
    "# Split data into training and testing sets\n",
    "X_train, X_test, y_train, y_test = train_test_split(X_tensor, y_tensor, test_size=0.2, random_state=42)\n",
    "\n",
    "# Define neural network model\n",
    "class PlantHealthModel(nn.Module):\n",
    "    def __init__(self):\n",
    "        super(PlantHealthModel, self).__init__()\n",
    "        self.fc1 = nn.Linear(8, 64)\n",
    "        self.relu = nn.ReLU()\n",
    "        self.fc2 = nn.Linear(64, 2)\n",
    "\n",
    "    def forward(self, x):\n",
    "        x = self.fc1(x)\n",
    "        x = self.relu(x)\n",
    "        x = self.fc2(x)\n",
    "        return x\n",
    "\n",
    "# Instantiate the model\n",
    "model = PlantHealthModel()\n",
    "\n",
    "# Define loss function and optimizer\n",
    "criterion = nn.CrossEntropyLoss()\n",
    "optimizer = optim.Adam(model.parameters(), lr=0.001)\n",
    "\n",
    "# Train the model\n",
    "for epoch in range(100):\n",
    "    optimizer.zero_grad()\n",
    "    outputs = model(X_train)\n",
    "    loss = criterion(outputs, y_train)\n",
    "    loss.backward()\n",
    "    optimizer.step()\n",
    "\n",
    "# Evaluate the model\n",
    "with torch.no_grad():\n",
    "    outputs = model(X_test)\n",
    "    _, predicted = torch.max(outputs, 1)\n",
    "    accuracy = (predicted == y_test).sum().item() / len(y_test)\n",
    "    print('Accuracy:', accuracy)"
   ]
  }
 ],
 "metadata": {
  "kernelspec": {
   "display_name": "Python (myenv)",
   "language": "python",
   "name": "myenv"
  },
  "language_info": {
   "codemirror_mode": {
    "name": "ipython",
    "version": 3
   },
   "file_extension": ".py",
   "mimetype": "text/x-python",
   "name": "python",
   "nbconvert_exporter": "python",
   "pygments_lexer": "ipython3",
   "version": "3.11.4"
  }
 },
 "nbformat": 4,
 "nbformat_minor": 2
}
